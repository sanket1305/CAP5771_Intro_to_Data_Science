{
 "cells": [
  {
   "cell_type": "markdown",
   "id": "5c5f62f0-816f-4fb7-8f88-591e1956ba19",
   "metadata": {},
   "source": [
    "# Task 6: Logistic Regression\n",
    "\n",
    "## Overview\n",
    "\n",
    "In this task, you will train **Logistic Regression classifiers** using both **Bag of Words (BoW)** and **TF-IDF** representations. This will allow us to compare the effectiveness of **Logistic Regression vs. Naive Bayes** on text classification\n",
    "\n",
    "## Why Logistic Regression?\n",
    "\n",
    "**Logistic Regression (LR)** is a widely used algorithm for classification tasks because:\n",
    "\n",
    "1. It **does not assume feature independence**, making it different from Naive Bayes.\n",
    "2. It is **more flexible** and can capture subtle relationships between words.\n",
    "3. It can be **regularized** to prevent overfitting on large datasets.\n"
   ]
  },
  {
   "cell_type": "code",
   "execution_count": 1,
   "id": "5c0611ce-8948-4e77-adfc-6d4db1c82301",
   "metadata": {},
   "outputs": [],
   "source": [
    "import numpy as np\n",
    "\n",
    "from joblib import dump\n",
    "from sklearn.linear_model import LogisticRegression"
   ]
  },
  {
   "cell_type": "code",
   "execution_count": 2,
   "id": "0285b6e9-6c17-4e96-bfd7-dbb0a63170e0",
   "metadata": {},
   "outputs": [],
   "source": [
    "# logistic regression for Bag of Words (BoW)\n",
    "def train_and_save_lr_bow():\n",
    "    # get features for train and test dataset\n",
    "    X_train_bow = np.load('data/bow_train.npy')\n",
    "    X_test_bow = np.load('data/bow_test.npy')\n",
    "\n",
    "    # get labels for train and test dataset\n",
    "    labels_train = np.load('data/train_labels.npy')\n",
    "    labels_test = np.load('data/test_labels.npy')\n",
    "\n",
    "    # prepare logistic regression model based on training features and labels\n",
    "    clf_model = LogisticRegression(random_state=42, max_iter=700)\n",
    "    clf_model.fit(X_train_bow, labels_train)\n",
    "\n",
    "    # check the accuracy for test dataset\n",
    "    accuracy = clf_model.score(X_test_bow, labels_test)\n",
    "    print(\"BoW Test Accuracy: \" + str(round(100*accuracy, 1)) + \"%\")\n",
    "\n",
    "    # save the model\n",
    "    dump(clf_model, 'models/lr_bow.pkl')"
   ]
  },
  {
   "cell_type": "code",
   "execution_count": 3,
   "id": "8c370387-9462-4358-bfd1-d7093d99fab8",
   "metadata": {},
   "outputs": [
    {
     "name": "stdout",
     "output_type": "stream",
     "text": [
      "BoW Test Accuracy: 60.2%\n"
     ]
    }
   ],
   "source": [
    "train_and_save_lr_bow()"
   ]
  },
  {
   "cell_type": "code",
   "execution_count": 4,
   "id": "d930f403-7a48-4b4c-a6ca-38bb906cef9f",
   "metadata": {},
   "outputs": [],
   "source": [
    "# logistic regression for TF-IDF\n",
    "def train_and_save_lr_tfidf():\n",
    "    # get features for train and test dataset\n",
    "    X_train_tfidf = np.load('data/tfidf_train.npy')\n",
    "    X_test_tfidf = np.load('data/tfidf_test.npy')\n",
    "\n",
    "    # get labels for train and test dataset\n",
    "    labels_train = np.load('data/train_labels.npy')\n",
    "    labels_test = np.load('data/test_labels.npy')\n",
    "\n",
    "    # prepare logistic regression model based on training features and labels\n",
    "    clf_model = LogisticRegression(max_iter=500)\n",
    "    clf_model.fit(X_train_tfidf, labels_train)\n",
    "\n",
    "    # check the accuracy for test dataset\n",
    "    accuracy = clf_model.score(X_test_tfidf, labels_test)\n",
    "    print(\"TF-IDF Test Accuracy: \" + str(round(100*accuracy, 1)) + \"%\")\n",
    "\n",
    "    # save the model\n",
    "    dump(clf_model, 'models/lr_tfidf.pkl')"
   ]
  },
  {
   "cell_type": "code",
   "execution_count": 5,
   "id": "0d817dd3-a464-4cdb-9ddc-b3edd08fc6b2",
   "metadata": {},
   "outputs": [
    {
     "name": "stdout",
     "output_type": "stream",
     "text": [
      "TF-IDF Test Accuracy: 66.5%\n"
     ]
    }
   ],
   "source": [
    "train_and_save_lr_tfidf()"
   ]
  }
 ],
 "metadata": {
  "kernelspec": {
   "display_name": "Python 3 (ipykernel)",
   "language": "python",
   "name": "python3"
  },
  "language_info": {
   "codemirror_mode": {
    "name": "ipython",
    "version": 3
   },
   "file_extension": ".py",
   "mimetype": "text/x-python",
   "name": "python",
   "nbconvert_exporter": "python",
   "pygments_lexer": "ipython3",
   "version": "3.9.7"
  }
 },
 "nbformat": 4,
 "nbformat_minor": 5
}

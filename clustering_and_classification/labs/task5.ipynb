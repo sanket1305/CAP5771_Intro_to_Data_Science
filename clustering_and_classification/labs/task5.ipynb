{
 "cells": [
  {
   "cell_type": "markdown",
   "id": "0bf67bca-460f-4281-9a40-ea42bd2fbe99",
   "metadata": {},
   "source": [
    "# Task 5: Naive Bayes\n",
    "\n",
    "## Overview\n",
    "\n",
    "In this task, you will train **Naive Bayes classifiers** using both **Bag of Words (BoW)** and **TF-IDF** representations. This will help compare how different text representations impact classification performance.\n",
    "\n",
    "## Why Naive Bayes?\n",
    "\n",
    "**Naive Bayes (NB)** is a widely used algorithm for text classification because:\n",
    "1. It is fast and efficient for large text datasets.\n",
    "2. It handles high-dimensional text features well.\n",
    "3. It is based on Bayes’ Theorem, assuming word independence (a useful simplification for text tasks)."
   ]
  },
  {
   "cell_type": "code",
   "execution_count": 1,
   "id": "1052a52d-2110-4470-bf59-b227b779d766",
   "metadata": {},
   "outputs": [],
   "source": [
    "# WRITE YOUR CODE HERE\n",
    "import numpy as np\n",
    "\n",
    "from joblib import dump\n",
    "from sklearn.naive_bayes import MultinomialNB\n",
    "from sklearn.metrics import accuracy_score"
   ]
  },
  {
   "cell_type": "code",
   "execution_count": 2,
   "id": "72ca1fc5-5858-4d92-b6a4-bf041c501ff1",
   "metadata": {},
   "outputs": [],
   "source": [
    "# naive bayes for Bag of Words (BoW)\n",
    "def train_and_save_nb_bow():\n",
    "    # get features for train and test dataset\n",
    "    X_train_bow = np.load('data/bow_train.npy')\n",
    "    X_test_bow = np.load('data/bow_test.npy')\n",
    "\n",
    "    # get labels for train and test dataset\n",
    "    labels_train = np.load('data/train_labels.npy')\n",
    "    labels_test = np.load('data/test_labels.npy')\n",
    "\n",
    "    # prepare naive bayes model based on training features and labels\n",
    "    clf_model = MultinomialNB()\n",
    "    clf_model.fit(X_train_bow, labels_train)\n",
    "\n",
    "    # check the accuracy for test dataset\n",
    "    accuracy = clf_model.score(X_test_bow, labels_test)\n",
    "    print(\"BoW Test Accuracy: \" + str(round(100*accuracy, 1)) + \"%\")\n",
    "\n",
    "    # save the model\n",
    "    dump(clf_model, 'models/naive_bayes_bow.pkl')"
   ]
  },
  {
   "cell_type": "code",
   "execution_count": 3,
   "id": "8b7dc587-ec3a-4bbe-b9ba-6870aa6ff433",
   "metadata": {},
   "outputs": [
    {
     "name": "stdout",
     "output_type": "stream",
     "text": [
      "BoW Test Accuracy: 58.7%\n"
     ]
    }
   ],
   "source": [
    "train_and_save_nb_bow()"
   ]
  },
  {
   "cell_type": "code",
   "execution_count": 4,
   "id": "951e4958-4e5d-40cd-b6f8-d86a57c0f9d4",
   "metadata": {},
   "outputs": [],
   "source": [
    "# naive bayes for TF_IDF\n",
    "def train_and_save_nb_tfidf():\n",
    "    # get features for train and test dataset\n",
    "    X_train_tfidf = np.load('data/tfidf_train.npy')\n",
    "    X_test_tfidf = np.load('data/tfidf_test.npy')\n",
    "\n",
    "    # get labels for train and test dataset\n",
    "    labels_train = np.load('data/train_labels.npy')\n",
    "    labels_test = np.load('data/test_labels.npy')\n",
    "\n",
    "    # prepare naive bayes model based on training features and labels\n",
    "    clf_model = MultinomialNB()\n",
    "    clf_model.fit(X_train_tfidf, labels_train)\n",
    "\n",
    "    # check the accuracy for test dataset\n",
    "    accuracy = clf_model.score(X_test_tfidf, labels_test)\n",
    "    print(\"TF-IDF Test Accuracy: \" + str(round(100*accuracy, 1)) + \"%\")\n",
    "\n",
    "    # save the model\n",
    "    dump(clf_model, 'models/naive_bayes_tfidf.pkl')"
   ]
  },
  {
   "cell_type": "code",
   "execution_count": 5,
   "id": "13657018-3760-4c5a-8195-5295900a69c1",
   "metadata": {},
   "outputs": [
    {
     "name": "stdout",
     "output_type": "stream",
     "text": [
      "TF-IDF Test Accuracy: 65.7%\n"
     ]
    }
   ],
   "source": [
    "train_and_save_nb_tfidf()"
   ]
  }
 ],
 "metadata": {
  "kernelspec": {
   "display_name": "Python 3 (ipykernel)",
   "language": "python",
   "name": "python3"
  },
  "language_info": {
   "codemirror_mode": {
    "name": "ipython",
    "version": 3
   },
   "file_extension": ".py",
   "mimetype": "text/x-python",
   "name": "python",
   "nbconvert_exporter": "python",
   "pygments_lexer": "ipython3",
   "version": "3.9.7"
  }
 },
 "nbformat": 4,
 "nbformat_minor": 5
}

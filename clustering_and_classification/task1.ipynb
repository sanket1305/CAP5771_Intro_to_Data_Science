{
 "cells": [
  {
   "cell_type": "markdown",
   "id": "a9e0632c-78a9-4ed8-b4b7-780f014363bb",
   "metadata": {
    "vscode": {
     "languageId": "plaintext"
    }
   },
   "source": [
    "# Task 1: Bag of Words (BoW) Representation\n",
    "\n",
    "## Overview\n",
    "In this task, you will convert raw text data into a numerical representation using the **Bag of Words (BoW)** model. This is a crucial step in text classification, as machine learning models require numerical inputs rather than raw text.\n",
    "\n",
    "## Why Bag of Words?\n",
    "\n",
    "The **Bag of Words (BoW)** model is a simple yet effective method for representing text. It counts the frequency of words in each document, creating a structured numerical representation that can be used by machine learning models. However, it does not consider word meaning or order—only presence and frequency."
   ]
  },
  {
   "cell_type": "code",
   "execution_count": 1,
   "id": "c3475303-58dd-446c-85af-6cf157a06d51",
   "metadata": {
    "vscode": {
     "languageId": "plaintext"
    }
   },
   "outputs": [],
   "source": [
    "import numpy as np\n",
    "from sklearn.datasets import fetch_20newsgroups\n",
    "from sklearn.feature_extraction.text import CountVectorizer"
   ]
  },
  {
   "cell_type": "code",
   "execution_count": 2,
   "id": "02f57859-3b4c-4a39-a6da-d0672c0412a3",
   "metadata": {
    "vscode": {
     "languageId": "plaintext"
    }
   },
   "outputs": [],
   "source": [
    "# fetch dataset from train and test subsets\n",
    "newsgroups_train = fetch_20newsgroups(subset='train', data_home=\"/tmp\")\n",
    "newsgroups_test = fetch_20newsgroups(subset='test', data_home=\"/tmp\")"
   ]
  },
  {
   "cell_type": "markdown",
   "id": "ac1f08ea-d2ff-4cfd-8ad4-fedd8f0d222e",
   "metadata": {
    "vscode": {
     "languageId": "plaintext"
    }
   },
   "source": [
    "The result contains 2 important attributes: `data` and `target`\n",
    "\n",
    "- **`data`** contains the actual news article.  \n",
    "- **`target`** (label) contains the category for the news article."
   ]
  },
  {
   "cell_type": "markdown",
   "id": "236f9285-32f7-47d6-9fd3-62dd5bd211fe",
   "metadata": {
    "vscode": {
     "languageId": "plaintext"
    }
   },
   "source": [
    "## 20 Newsgroup Categories (`target` values)\n",
    "Here’s a list of the 20 newsgroup categories in the dataset:\n",
    "\n",
    "1. `alt.atheism`  \n",
    "2. `comp.graphics`  \n",
    "3. `comp.os.ms-windows.misc`  \n",
    "4. `comp.sys.ibm.pc.hardware`  \n",
    "5. `comp.sys.mac.hardware`  \n",
    "6. `comp.windows.x`  \n",
    "7. `misc.forsale`  \n",
    "8. `rec.autos`  \n",
    "9. `rec.motorcycles`  \n",
    "10. `rec.sport.baseball`  \n",
    "11. `rec.sport.hockey`  \n",
    "12. `sci.crypt`  \n",
    "13. `sci.electronics`  \n",
    "14. `sci.med`  \n",
    "15. `sci.space`  \n",
    "16. `soc.religion.christian`  \n",
    "17. `talk.politics.guns`  \n",
    "18. `talk.politics.mideast`  \n",
    "19. `talk.politics.misc`  \n",
    "20. `talk.religion.misc`  "
   ]
  },
  {
   "cell_type": "code",
   "execution_count": 3,
   "id": "dada58ce-9e91-4b09-8548-6248fd02886c",
   "metadata": {
    "vscode": {
     "languageId": "plaintext"
    }
   },
   "outputs": [
    {
     "name": "stdout",
     "output_type": "stream",
     "text": [
      "Training set size: 11314\n",
      "Test set size: 7532\n"
     ]
    }
   ],
   "source": [
    "print(\"Training set size:\", len(newsgroups_train.data))\n",
    "print(\"Test set size:\", len(newsgroups_test.data))"
   ]
  },
  {
   "cell_type": "code",
   "execution_count": 4,
   "id": "c3ac05ed-f9fd-4b87-95e1-55ac2a4e3ca0",
   "metadata": {
    "vscode": {
     "languageId": "plaintext"
    }
   },
   "outputs": [
    {
     "name": "stdout",
     "output_type": "stream",
     "text": [
      "BoW train shape: 11314 x 1000\n"
     ]
    }
   ],
   "source": [
    "# limiting features to 1000 due to compute constraints\n",
    "vectorizer = CountVectorizer(max_features=1000)\n",
    "X_train = vectorizer.fit_transform(newsgroups_train.data).toarray()\n",
    "print(\"BoW train shape: \" + str(X_train.shape[0]) + \" x \" + str(X_train.shape[1]))\n",
    "np.save('data/bow_train.npy', X_train)"
   ]
  },
  {
   "cell_type": "code",
   "execution_count": 5,
   "id": "c8982263-e18e-4e90-b01e-0c287011cfd2",
   "metadata": {
    "vscode": {
     "languageId": "plaintext"
    }
   },
   "outputs": [
    {
     "name": "stdout",
     "output_type": "stream",
     "text": [
      "BoW test shape: 7532 x 1000\n"
     ]
    }
   ],
   "source": [
    "# as we have already fit out train data, now we are just going to transform on our test data\n",
    "X_test = vectorizer.transform(newsgroups_test.data).toarray()\n",
    "print(\"BoW test shape: \" + str(X_test.shape[0]) + \" x \" + str(X_test.shape[1]))\n",
    "np.save('data/bow_test.npy', X_test)"
   ]
  },
  {
   "cell_type": "code",
   "execution_count": 6,
   "id": "8731fdf4-b189-48c2-b986-58daa255f23d",
   "metadata": {
    "vscode": {
     "languageId": "plaintext"
    }
   },
   "outputs": [
    {
     "name": "stdout",
     "output_type": "stream",
     "text": [
      "Train labels shape: 11314 x 1\n"
     ]
    }
   ],
   "source": [
    "print(\"Train labels shape: \" + str(len(newsgroups_train.target)) + \" x 1\")\n",
    "np.save('data/train_labels.npy', newsgroups_train.target)"
   ]
  },
  {
   "cell_type": "code",
   "execution_count": 7,
   "id": "541b8891-ba50-45b2-b3d9-ae0705fceecd",
   "metadata": {
    "vscode": {
     "languageId": "plaintext"
    }
   },
   "outputs": [
    {
     "name": "stdout",
     "output_type": "stream",
     "text": [
      "Test labels shape: 7532 x 1\n"
     ]
    }
   ],
   "source": [
    "print(\"Test labels shape: \" + str(len(newsgroups_test.target)) + \" x 1\")\n",
    "np.save('data/test_labels.npy', newsgroups_test.target)"
   ]
  }
 ],
 "metadata": {
  "kernelspec": {
   "display_name": "Python 3 (ipykernel)",
   "language": "python",
   "name": "python3"
  },
  "language_info": {
   "codemirror_mode": {
    "name": "ipython",
    "version": 3
   },
   "file_extension": ".py",
   "mimetype": "text/x-python",
   "name": "python",
   "nbconvert_exporter": "python",
   "pygments_lexer": "ipython3",
   "version": "3.9.7"
  }
 },
 "nbformat": 4,
 "nbformat_minor": 5
}

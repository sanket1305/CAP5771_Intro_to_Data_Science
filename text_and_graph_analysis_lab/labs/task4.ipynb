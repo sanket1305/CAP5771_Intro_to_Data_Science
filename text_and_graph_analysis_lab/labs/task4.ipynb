{
 "cells": [
  {
   "cell_type": "markdown",
   "id": "c4e101d7-3cf0-459d-93eb-253c583f0cef",
   "metadata": {},
   "source": [
    "# Task 4: Named Entity Recognition (NER) with BIO Tagging\n",
    "\n",
    "## Overview\n",
    "In this task, you will implement a simple **Named Entity Recognition (NER)** tagger using the **BIO tagging scheme**. Each token in a sentence will be labeled as:\n",
    "\n",
    "- B-LABEL → beginning of an entity\n",
    "- I-LABEL → inside an entity\n",
    "- O → outside any entity\n",
    "\n",
    "You’ll work with **character-level entity spans**, align them with tokens using basic Python tools (not spaCy), and return token-level BIO tags."
   ]
  },
  {
   "cell_type": "code",
   "execution_count": 1,
   "id": "4d27b343-8a9f-4b01-af8f-aa4f1c42d235",
   "metadata": {},
   "outputs": [],
   "source": [
    "def generate_ner_tags(text: str, entities: list[tuple[int, int, str]]) -> list[str]:\n",
    "    text = text.split()\n",
    "\n",
    "    # sort the entities, so that we begin from smallest available index first\n",
    "    entities.sort()\n",
    "    # default assign 'O' to all words\n",
    "    res = [\"O\"]*len(text)\n",
    "\n",
    "    # for each entity check if the word index lies in the given boundary\n",
    "    for start, end, entity_name in entities:\n",
    "        idx = 0\n",
    "        # flag to keep track if the word is first word in an entity\n",
    "        # to mark 'B-tag'\n",
    "        is_first_word = True\n",
    "        for word_idx in range(len(text)):\n",
    "            word = text[word_idx]\n",
    "            word_b = idx\n",
    "            word_e = idx + len(word)\n",
    "    \n",
    "            if word_b < end and word_e > start:\n",
    "                # once we find first word, flip the flag\n",
    "                # as rest will be 'I-tag'\n",
    "                if is_first_word:\n",
    "                    res[word_idx] = \"B-\" + entity_name\n",
    "                    is_first_word = False\n",
    "                else:\n",
    "                    res[word_idx] = \"I-\" + entity_name\n",
    "\n",
    "            # modify idx to keep track of start index for next word\n",
    "            idx += len(word) + 1\n",
    "    \n",
    "    return res"
   ]
  },
  {
   "cell_type": "code",
   "execution_count": 2,
   "id": "9d3a2e2d-bde0-4417-b08b-51379e581412",
   "metadata": {},
   "outputs": [
    {
     "name": "stdout",
     "output_type": "stream",
     "text": [
      "['B-PERSON', 'I-PERSON', 'O', 'O', 'O', 'B-LOCATION']\n"
     ]
    }
   ],
   "source": [
    "print(generate_ner_tags(\"Barack Obama was born in Hawaii.\", [(0, 12, \"PERSON\"), (25, 31, \"LOCATION\")]))"
   ]
  }
 ],
 "metadata": {
  "kernelspec": {
   "display_name": "Python 3 (ipykernel)",
   "language": "python",
   "name": "python3"
  },
  "language_info": {
   "codemirror_mode": {
    "name": "ipython",
    "version": 3
   },
   "file_extension": ".py",
   "mimetype": "text/x-python",
   "name": "python",
   "nbconvert_exporter": "python",
   "pygments_lexer": "ipython3",
   "version": "3.9.7"
  }
 },
 "nbformat": 4,
 "nbformat_minor": 5
}

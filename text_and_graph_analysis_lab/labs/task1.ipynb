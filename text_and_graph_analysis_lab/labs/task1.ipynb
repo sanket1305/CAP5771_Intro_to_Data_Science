{
 "cells": [
  {
   "cell_type": "markdown",
   "id": "d87eb077-2d08-4f5f-8bc5-dce578a4cf78",
   "metadata": {},
   "source": [
    "# Task 1: Sentiment Analysis with Logistic Regression\n",
    "\n",
    "## Overview\n",
    "In this task, you will build a sentiment classification system to label movie reviews as either positive or negative. You are free to choose any model or feature extraction technique, but your implementation must use a scikit-learn pipeline.\n",
    "Your solution will be tested on a hidden test set and must meet performance requirements to be considered valid."
   ]
  },
  {
   "cell_type": "code",
   "execution_count": 1,
   "id": "f8ab6044-e277-4754-8889-cfd81a2e8403",
   "metadata": {},
   "outputs": [],
   "source": [
    "from sklearn.datasets import load_files\n",
    "from sklearn.feature_extraction.text import TfidfVectorizer\n",
    "from sklearn.linear_model import LogisticRegression\n",
    "from sklearn.metrics import classification_report\n",
    "from sklearn.model_selection import train_test_split\n",
    "from sklearn.pipeline import Pipeline"
   ]
  },
  {
   "cell_type": "code",
   "execution_count": 2,
   "id": "ebb9e196-7e7e-483c-ac5b-76ec3b77b696",
   "metadata": {},
   "outputs": [],
   "source": [
    "# load data\n",
    "container_path = \"data/movie_reviews\"\n",
    "data = load_files(container_path)"
   ]
  },
  {
   "cell_type": "code",
   "execution_count": 3,
   "id": "e0f7de58-4395-4d2c-b5e2-612a85e2fe2b",
   "metadata": {},
   "outputs": [],
   "source": [
    "# split data\n",
    "# split the data and target variables\n",
    "X, y = data.data, data.target\n",
    "\n",
    "#split the dataset into train and test datasets\n",
    "X_train, X_test, y_train, y_test = train_test_split(X, y, test_size=0.3, random_state=42) # random_state keeps data split identical for each run    "
   ]
  },
  {
   "cell_type": "code",
   "execution_count": 4,
   "id": "d6c2f801-a4f0-43a8-bb28-0f0450faa0c4",
   "metadata": {},
   "outputs": [],
   "source": [
    "# cretae a pipeline for logistic regression, \n",
    "# add labels for process for quick access later on\n",
    "pipeline = Pipeline([\n",
    "    ('tfidf', TfidfVectorizer(\n",
    "        lowercase = True,\n",
    "        stop_words = 'english',\n",
    "        max_features = 1000,\n",
    "        ngram_range = (1, 2)\n",
    "    )),\n",
    "    ('clf', LogisticRegression(max_iter = 1000))\n",
    "])"
   ]
  },
  {
   "cell_type": "code",
   "execution_count": 5,
   "id": "9c96d84c-4de9-4bf1-b00a-c0dd14267f8f",
   "metadata": {},
   "outputs": [],
   "source": [
    "# train the model\n",
    "pipeline.fit(X_train, y_train)\n",
    "\n",
    "# get prediction for test set\n",
    "y_pred = pipeline.predict(X_test)"
   ]
  },
  {
   "cell_type": "code",
   "execution_count": 6,
   "id": "9d827ff2-b3bd-420c-b53a-d43631fd8ee5",
   "metadata": {},
   "outputs": [
    {
     "name": "stdout",
     "output_type": "stream",
     "text": [
      "              precision    recall  f1-score   support\n",
      "\n",
      "         neg       0.78      0.78      0.78       235\n",
      "         pos       0.79      0.79      0.79       245\n",
      "\n",
      "    accuracy                           0.79       480\n",
      "   macro avg       0.79      0.79      0.79       480\n",
      "weighted avg       0.79      0.79      0.79       480\n",
      "\n"
     ]
    }
   ],
   "source": [
    "# display the report\n",
    "print(classification_report(y_test, y_pred, target_names=data.target_names))"
   ]
  },
  {
   "cell_type": "markdown",
   "id": "7644ec7c-c924-43ba-b667-d0cdc43d191b",
   "metadata": {},
   "source": [
    "## Note:\n",
    "\n",
    "1. The actual task was to train the model on whole data and return the pipeline. The pipeline was then tested (on hidden data) to check if it achives the acuuracy >= 80% with f1-score >= 80%\n",
    "2. "
   ]
  }
 ],
 "metadata": {
  "kernelspec": {
   "display_name": "Python 3 (ipykernel)",
   "language": "python",
   "name": "python3"
  },
  "language_info": {
   "codemirror_mode": {
    "name": "ipython",
    "version": 3
   },
   "file_extension": ".py",
   "mimetype": "text/x-python",
   "name": "python",
   "nbconvert_exporter": "python",
   "pygments_lexer": "ipython3",
   "version": "3.9.7"
  }
 },
 "nbformat": 4,
 "nbformat_minor": 5
}

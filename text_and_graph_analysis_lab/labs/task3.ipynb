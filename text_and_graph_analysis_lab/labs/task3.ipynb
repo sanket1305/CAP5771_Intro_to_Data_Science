{
 "cells": [
  {
   "cell_type": "markdown",
   "id": "fcb61678-35d1-47ca-8571-7fe03efde815",
   "metadata": {},
   "source": [
    "# Task 3: Build a Search Engine Using TF-IDF and Cosine Similarity\n",
    "\n",
    "## Overview\n",
    "In this task, you will build a document search system using TF-IDF vectorization and perform top-k cosine similarity search entirely in memory.\n",
    "\n",
    "You will use a dataset of pre-merged Yahoo Answers entries stored in qa_data.json. This task is split into two parts:\n",
    "\n",
    "Task 3.1: Preprocess and vectorize the documents, then save both the vectorizer and the document embeddings.  \n",
    "Task 3.2: Accept a search query and return the top-k most relevant results using cosine similarity.\n",
    "\n",
    "This forms the basis for semantic search engines, retrieval-augmented generation (RAG), and other vector-based applications in NLP."
   ]
  },
  {
   "cell_type": "code",
   "execution_count": 1,
   "id": "c9b8b624-e495-483f-9d64-20987a7dbaf6",
   "metadata": {},
   "outputs": [],
   "source": [
    "import joblib\n",
    "import json\n",
    "import numpy as np\n",
    "\n",
    "from sklearn.feature_extraction.text import TfidfVectorizer\n",
    "from sklearn.metrics.pairwise import cosine_similarity"
   ]
  },
  {
   "cell_type": "markdown",
   "id": "92260cdb-af45-46c8-a5ac-1044b329ae72",
   "metadata": {},
   "source": [
    "## Task 3.1 Preprocess and Index the Documents"
   ]
  },
  {
   "cell_type": "code",
   "execution_count": 2,
   "id": "cbcb5135-8058-454e-9748-d4e2e73f624e",
   "metadata": {},
   "outputs": [],
   "source": [
    "def build_and_index_documents():\n",
    "\n",
    "    # Open and load the JSON file\n",
    "    with open(\"data/qa_data.json\", \"r\") as file:\n",
    "        data = json.load(file)\n",
    "\n",
    "    # Access data\n",
    "    print(len(data))\n",
    "    vectorizer = TfidfVectorizer(max_features = 1000)\n",
    "\n",
    "    tfidf_matrix = vectorizer.fit_transform(data)\n",
    "    vectors = tfidf_matrix.toarray()\n",
    "\n",
    "    joblib.dump(vectorizer, \"output/vectorizer.pkl\")\n",
    "    np.save(\"output/document_vectors.npy\", vectors)"
   ]
  },
  {
   "cell_type": "code",
   "execution_count": 3,
   "id": "5a946281-8c59-43e4-bd9b-02381f9723d3",
   "metadata": {},
   "outputs": [
    {
     "name": "stdout",
     "output_type": "stream",
     "text": [
      "1000\n"
     ]
    }
   ],
   "source": [
    "build_and_index_documents()"
   ]
  },
  {
   "cell_type": "markdown",
   "id": "0381e09c-a524-461b-9090-93bd1cc23a79",
   "metadata": {},
   "source": [
    "## Task 3.2: Run a Search Query"
   ]
  },
  {
   "cell_type": "code",
   "execution_count": 4,
   "id": "af431b47-26c8-4ef8-b236-55596ba29988",
   "metadata": {},
   "outputs": [],
   "source": [
    "def run_query(query: str, k: int = 5):\n",
    "    vectorizer = joblib.load(\"output/vectorizer.pkl\")\n",
    "    vectors = np.load(\"output/document_vectors.npy\")\n",
    "\n",
    "    query_vector = vectorizer.transform([query])\n",
    "\n",
    "    cosine_scores = cosine_similarity(query_vector, vectors)[0]\n",
    "    # print(len(cosine_scores))\n",
    "    # print(len(cosine_scores[0]))\n",
    "\n",
    "    # get top k indices\n",
    "    cosine_scores = cosine_scores.argsort()\n",
    "    cosine_scores = cosine_scores[::-1] # reverse the array as we want top score first DESC order\n",
    "    top_k_indices = cosine_scores[:k]\n",
    "    # print(top_k_indices)\n",
    "\n",
    "    top_k_scores = cosine_scores[top_k_indices]\n",
    "    # print(top_k_scores)\n",
    "\n",
    "    # Open and load the JSON file\n",
    "    with open(\"data/qa_data.json\", \"r\") as file:\n",
    "        data = json.load(file)\n",
    "    \n",
    "    print(f\"Top {k} results for: {query}\")\n",
    "    for idx in top_k_indices:\n",
    "        print(f\"doc_{idx} {data[idx]}\")"
   ]
  },
  {
   "cell_type": "code",
   "execution_count": 5,
   "id": "6edba3c0-e6b1-45a8-938d-f61a3abb24f6",
   "metadata": {},
   "outputs": [
    {
     "name": "stdout",
     "output_type": "stream",
     "text": [
      "Top 3 results for: python data science\n",
      "doc_160 Where can I get ideas for our science project?  My daughter gets her science project ideas from infoplease.com.  She loves this site.\n",
      "doc_848 Why indian  good in Math and science?  Indians r best at everythin dude\n",
      "doc_167 What is programming?  Programming is instructing a computer to do something for you with the help of a programming language. The role of a programming language can be described in two ways:\\n\\n   1. Technical: It is a means for instructing a Computer to perform Tasks\\n   2. Conceptual: It is a framework within which we organize our ideas about things and processes. \\n\\nAccording to the last statement, in programming we deal with two kind of things:\\n\\n    * data, representing ``objects'' we want to manipulate\\n    * procedures, i.e. ``descriptions'' or ``rules'' that define how to manipulate data. \\n\\nAccording to Abelson and Sussman ([ABELSON, 1985, 4,])\\n\\n    ``.....we should pay particular attention to the means that the language provides for combinign simple ideas to form more complex ideas. Every language has three mechanisms for accomplishing this:\\n\\n    primitive expressions, which represent the simplest entities with which the language is concerned\\n\\n    means of combination, by which compound expressions are built from simple ones, and\\n\\n    means of abstraction, by which compound objects can be named and manipulated as units.''\\n\\nA programming lanugage should both provide means to describe primitive data and procedures and means to combine and abstract those into more complex ones.\\n\\nThe distinction between data and procedures is not that clear cut. In many programming languages, procedures can be passed as data (to be applied to ``real'' data) and sometimes processed like ``ordinary'' data. Conversely ``ordinary'' data can be turned into procedures by an evaluation mechanism.\n"
     ]
    }
   ],
   "source": [
    "run_query(\"python data science\", 3)"
   ]
  }
 ],
 "metadata": {
  "kernelspec": {
   "display_name": "Python 3 (ipykernel)",
   "language": "python",
   "name": "python3"
  },
  "language_info": {
   "codemirror_mode": {
    "name": "ipython",
    "version": 3
   },
   "file_extension": ".py",
   "mimetype": "text/x-python",
   "name": "python",
   "nbconvert_exporter": "python",
   "pygments_lexer": "ipython3",
   "version": "3.9.7"
  }
 },
 "nbformat": 4,
 "nbformat_minor": 5
}

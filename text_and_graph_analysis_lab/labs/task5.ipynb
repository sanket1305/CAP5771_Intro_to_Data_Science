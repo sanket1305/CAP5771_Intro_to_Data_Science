{
 "cells": [
  {
   "cell_type": "markdown",
   "id": "ff66e8aa-d0d7-47df-862f-f1fe9bfde353",
   "metadata": {},
   "source": [
    "# Task 5: Ranking Webpages with PageRank\n",
    "\n",
    "## Overview\n",
    "In this task, you will complete the core **PageRank algorithm** used to rank webpages by importance. PageRank models the web as a graph where pages “vote” for the pages they link to, and these votes recursively determine each page’s score.\n",
    "\n",
    "You are given a partially implemented function. Your job is to **fill in the missing mathematical components** that update the PageRank scores iteratively, accounting for **damping** and **dangling nodes.**"
   ]
  },
  {
   "cell_type": "code",
   "execution_count": 1,
   "id": "73d1d777-91b6-422d-ae9d-2a73ddff6014",
   "metadata": {},
   "outputs": [],
   "source": [
    "# FREEZE CODE BEGIN\n",
    "import numpy as np\n",
    "\n",
    "def compute_pagerank(pages: dict[str, list[str]], damping: float = 0.85, max_iter: int = 100, tol: float = 1e-6) -> dict[str, float]:\n",
    "    nodes = list(pages.keys())\n",
    "    N = len(nodes)\n",
    "    node_index = {node: i for i, node in enumerate(nodes)}\n",
    "\n",
    "    pr = np.full(N, 1.0 / N)  # Initial PageRank scores\n",
    "    M = np.zeros((N, N))      # Link-based transition matrix\n",
    "\n",
    "    for page, links in pages.items():\n",
    "        if links:\n",
    "            weight = 1 / len(links)\n",
    "            for dest in links:\n",
    "                if dest in node_index:\n",
    "                    M[node_index[dest], node_index[page]] += weight\n",
    "        else:\n",
    "            M[:, node_index[page]] += 1.0 / N  # Spread evenly for dangling nodes\n",
    "\n",
    "    for _ in range(max_iter):\n",
    "        # Step 2: Assign some probability to randomly jumping to any page\n",
    "        base = (1 - damping) / N\n",
    "\n",
    "        # Step 3: Calculate how much rank each page receives from its incoming links\n",
    "        contrib = damping * M @ pr\n",
    "\n",
    "        # Step 4: Update ranks by combining random jumps with link-based scores\n",
    "        new_pr = base + contrib\n",
    "\n",
    "        # Step 5: Stop if the scores have stabilized\n",
    "        if np.linalg.norm(new_pr - pr, 1) < tol:\n",
    "            break\n",
    "        pr = new_pr\n",
    "\n",
    "    return {node: round(score, 6) for node, score in zip(nodes, pr)}"
   ]
  },
  {
   "cell_type": "code",
   "execution_count": 2,
   "id": "f6725ae3-9760-44b5-bb85-5471de85bff2",
   "metadata": {},
   "outputs": [
    {
     "name": "stdout",
     "output_type": "stream",
     "text": [
      "{'A': np.float64(0.372526), 'B': np.float64(0.195824), 'C': np.float64(0.394149), 'D': np.float64(0.0375)}\n"
     ]
    }
   ],
   "source": [
    "pages = {\n",
    "    \"A\": [\"B\", \"C\"],\n",
    "    \"B\": [\"C\"],\n",
    "    \"C\": [\"A\"],\n",
    "    \"D\": [\"C\"]\n",
    "}\n",
    "\n",
    "pagerank_scores = compute_pagerank(pages)\n",
    "print(pagerank_scores)"
   ]
  },
  {
   "cell_type": "code",
   "execution_count": null,
   "id": "89fe2ea7-8d52-4362-b7e2-5a0939c12774",
   "metadata": {},
   "outputs": [],
   "source": []
  }
 ],
 "metadata": {
  "kernelspec": {
   "display_name": "Python 3 (ipykernel)",
   "language": "python",
   "name": "python3"
  },
  "language_info": {
   "codemirror_mode": {
    "name": "ipython",
    "version": 3
   },
   "file_extension": ".py",
   "mimetype": "text/x-python",
   "name": "python",
   "nbconvert_exporter": "python",
   "pygments_lexer": "ipython3",
   "version": "3.9.7"
  }
 },
 "nbformat": 4,
 "nbformat_minor": 5
}

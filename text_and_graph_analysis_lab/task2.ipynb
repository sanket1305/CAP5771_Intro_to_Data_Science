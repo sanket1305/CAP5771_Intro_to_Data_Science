{
 "cells": [
  {
   "cell_type": "markdown",
   "id": "87095086-fa50-46d1-b018-2c0c3a327536",
   "metadata": {},
   "source": [
    "# Task 2: Email Spam Detection with Skewed Data\n",
    "\n",
    "## Overview\n",
    "In real-world spam detection systems, the number of legitimate emails (ham) significantly outweighs the number of spam emails. This class imbalance means that even a model with high accuracy may completely fail at its real goal: catching spam.\n",
    "\n",
    "To build a useful spam filter, you must:\n",
    "- Properly handle imbalanced data\n",
    "- Use meaningful metrics like precision, recall, and F1-score"
   ]
  },
  {
   "cell_type": "code",
   "execution_count": 1,
   "id": "712145a5-b836-4b47-ac4a-656302d77b3a",
   "metadata": {},
   "outputs": [],
   "source": [
    "from sklearn.datasets import load_files\n",
    "from sklearn.feature_extraction.text import TfidfVectorizer\n",
    "from sklearn.linear_model import LogisticRegression\n",
    "from sklearn.metrics import classification_report\n",
    "from sklearn.model_selection import train_test_split\n",
    "from sklearn.pipeline import Pipeline"
   ]
  },
  {
   "cell_type": "code",
   "execution_count": 2,
   "id": "439f5041-f59b-4422-b6d9-3020ebbf6e99",
   "metadata": {},
   "outputs": [],
   "source": [
    "container_path = \"data/spam_emails\"\n",
    "data = load_files(container_path)"
   ]
  },
  {
   "cell_type": "code",
   "execution_count": 3,
   "id": "6809cf3a-7e1e-4036-bc4b-af36567ab548",
   "metadata": {},
   "outputs": [],
   "source": [
    "# split data\n",
    "# split the data and target variables\n",
    "X, y = data.data, data.target\n",
    "\n",
    "#split the dataset into train and test datasets\n",
    "X_train, X_test, y_train, y_test = train_test_split(X, y, test_size=0.3, random_state=42) # random_state keeps data split identical for each run    "
   ]
  },
  {
   "cell_type": "code",
   "execution_count": 4,
   "id": "8bd9644b-7c6d-41d4-ad7e-1f5114efb198",
   "metadata": {},
   "outputs": [],
   "source": [
    "# cretae a pipeline for logistic regression, \n",
    "# add labels for process for quick access later on\n",
    "pipeline = Pipeline([\n",
    "    (\"tfidf\", TfidfVectorizer(\n",
    "        lowercase = True,\n",
    "        stop_words = \"english\",\n",
    "        max_features = 1000\n",
    "    )),\n",
    "    (\"clf\", LogisticRegression(class_weight = \"balanced\", max_iter = 1000))\n",
    "])"
   ]
  },
  {
   "cell_type": "code",
   "execution_count": 5,
   "id": "abd09115-b1bc-4dac-8154-8122e9040e88",
   "metadata": {},
   "outputs": [],
   "source": [
    "# train the model\n",
    "pipeline.fit(X_train, y_train)\n",
    "\n",
    "# get prediction for test set\n",
    "y_pred = pipeline.predict(X_test)"
   ]
  },
  {
   "cell_type": "code",
   "execution_count": 6,
   "id": "e5b844c8-da84-4ff0-9a92-337a580febd7",
   "metadata": {},
   "outputs": [
    {
     "name": "stdout",
     "output_type": "stream",
     "text": [
      "              precision    recall  f1-score   support\n",
      "\n",
      "         ham       1.00      0.98      0.99       618\n",
      "        spam       0.91      0.99      0.95       115\n",
      "\n",
      "    accuracy                           0.98       733\n",
      "   macro avg       0.96      0.99      0.97       733\n",
      "weighted avg       0.98      0.98      0.98       733\n",
      "\n"
     ]
    }
   ],
   "source": [
    "# display the report\n",
    "print(classification_report(y_test, y_pred, target_names=data.target_names))"
   ]
  },
  {
   "cell_type": "markdown",
   "id": "8ddc4984-6971-433e-8275-30b0ed69d1bc",
   "metadata": {},
   "source": [
    "## Note:\n",
    "\n",
    "1. The actual task was to train the model on whole data and return the pipeline. The pipeline was then tested (on hidden data) to check if it achives the acuuracy >= 80% with f1-score >= 80%\n",
    "2. Since I don't have the access to hidden data, I did a split here\n",
    "3. The actual submission can be found in submission folder in file `task2.py`"
   ]
  }
 ],
 "metadata": {
  "kernelspec": {
   "display_name": "Python 3 (ipykernel)",
   "language": "python",
   "name": "python3"
  },
  "language_info": {
   "codemirror_mode": {
    "name": "ipython",
    "version": 3
   },
   "file_extension": ".py",
   "mimetype": "text/x-python",
   "name": "python",
   "nbconvert_exporter": "python",
   "pygments_lexer": "ipython3",
   "version": "3.9.7"
  }
 },
 "nbformat": 4,
 "nbformat_minor": 5
}
